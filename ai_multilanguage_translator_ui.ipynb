{
 "cells": [
  {
   "cell_type": "markdown",
   "id": "f0880816",
   "metadata": {},
   "source": [
    "\n",
    "# 🌐 AI Multilanguage Translator\n",
    "\n",
    "This app translates text between 12+ languages using Google Translate API with a modern, responsive UI built using Gradio.\n"
   ]
  },
  {
   "cell_type": "code",
   "execution_count": null,
   "id": "69883c40",
   "metadata": {},
   "outputs": [],
   "source": [
    "# Optional: Install dependencies if needed\n",
    "# !pip install deep-translator gradio\n"
   ]
  },
  {
   "cell_type": "code",
   "execution_count": null,
   "id": "f5eacec5",
   "metadata": {},
   "outputs": [],
   "source": [
    "\n",
    "from deep_translator import GoogleTranslator\n",
    "import gradio as gr\n"
   ]
  },
  {
   "cell_type": "code",
   "execution_count": null,
   "id": "4d690e49",
   "metadata": {},
   "outputs": [],
   "source": [
    "\n",
    "languages = [\n",
    "    \"english\", \"hindi\", \"french\", \"german\", \"spanish\",\n",
    "    \"japanese\", \"chinese\", \"russian\", \"arabic\", \"italian\", \"portuguese\", \"korean\"\n",
    "]\n"
   ]
  },
  {
   "cell_type": "code",
   "execution_count": null,
   "id": "3b70f149",
   "metadata": {},
   "outputs": [],
   "source": [
    "\n",
    "def translate_text(text, source_lang, target_lang):\n",
    "    if not text.strip():\n",
    "        return \"Please enter some text to translate.\"\n",
    "    try:\n",
    "        translated = GoogleTranslator(source=source_lang, target=target_lang).translate(text)\n",
    "        return translated\n",
    "    except Exception as e:\n",
    "        return f\"Error: {str(e)}\"\n"
   ]
  },
  {
   "cell_type": "code",
   "execution_count": null,
   "id": "d616531f",
   "metadata": {},
   "outputs": [],
   "source": [
    "\n",
    "with gr.Blocks(theme=gr.themes.Base()) as app:\n",
    "    gr.Markdown(\"## 🌐 AI Multilanguage Translator\")\n",
    "    gr.Markdown(\"Instantly translate text between 12+ languages using Google Translate API.\")\n",
    "\n",
    "    with gr.Row():\n",
    "        with gr.Column():\n",
    "            source = gr.Dropdown(label=\"From Language\", choices=languages, value=\"english\")\n",
    "            target = gr.Dropdown(label=\"To Language\", choices=languages, value=\"hindi\")\n",
    "        with gr.Column():\n",
    "            input_text = gr.Textbox(label=\"Enter Text\", lines=4, placeholder=\"Type here...\")\n",
    "            translate_btn = gr.Button(\"Translate\", variant=\"primary\")\n",
    "\n",
    "    output_text = gr.Textbox(label=\"Translated Text\", lines=4, interactive=False)\n",
    "    clear_btn = gr.Button(\"Clear\")\n",
    "\n",
    "    translate_btn.click(translate_text, inputs=[input_text, source, target], outputs=output_text)\n",
    "    clear_btn.click(lambda: \"\", None, output_text)\n",
    "\n",
    "app.launch()\n"
   ]
  }
 ],
 "metadata": {},
 "nbformat": 4,
 "nbformat_minor": 5
}